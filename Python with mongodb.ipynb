{
 "cells": [
  {
   "cell_type": "code",
   "execution_count": 1,
   "id": "ee60a9f4",
   "metadata": {
    "scrolled": false
   },
   "outputs": [
    {
     "name": "stdout",
     "output_type": "stream",
     "text": [
      "Requirement already satisfied: pymongo in d:\\anaconda\\lib\\site-packages (4.4.1)\n",
      "Requirement already satisfied: dnspython<3.0.0,>=1.16.0 in d:\\anaconda\\lib\\site-packages (from pymongo) (2.4.2)\n"
     ]
    },
    {
     "name": "stderr",
     "output_type": "stream",
     "text": [
      "\n",
      "[notice] A new release of pip is available: 23.1.2 -> 23.2.1\n",
      "[notice] To update, run: python.exe -m pip install --upgrade pip\n"
     ]
    }
   ],
   "source": [
    "!pip install pymongo"
   ]
  },
  {
   "cell_type": "code",
   "execution_count": 2,
   "id": "2d162e38",
   "metadata": {},
   "outputs": [],
   "source": [
    "import pymongo"
   ]
  },
  {
   "cell_type": "code",
   "execution_count": 3,
   "id": "8d389c11",
   "metadata": {},
   "outputs": [],
   "source": [
    "client=pymongo.MongoClient('mongodb://127.0.0.1:27017/')"
   ]
  },
  {
   "cell_type": "code",
   "execution_count": 4,
   "id": "990c95ab",
   "metadata": {},
   "outputs": [],
   "source": [
    "db=client['mydb'] "
   ]
  },
  {
   "cell_type": "code",
   "execution_count": 5,
   "id": "f9424426",
   "metadata": {},
   "outputs": [],
   "source": [
    "info=db.eploy"
   ]
  },
  {
   "cell_type": "code",
   "execution_count": 6,
   "id": "fa508507",
   "metadata": {},
   "outputs": [],
   "source": [
    "record={\n",
    "    \"FirstName\":\"Vivek\",\"LastName\":\"Singh\",\"Age\":48\n",
    "}"
   ]
  },
  {
   "cell_type": "code",
   "execution_count": 7,
   "id": "575ba5ce",
   "metadata": {},
   "outputs": [
    {
     "data": {
      "text/plain": [
       "<pymongo.results.InsertOneResult at 0x25c246503a0>"
      ]
     },
     "execution_count": 7,
     "metadata": {},
     "output_type": "execute_result"
    }
   ],
   "source": [
    "info.insert_one(record)"
   ]
  },
  {
   "cell_type": "code",
   "execution_count": 8,
   "id": "1629ffe1",
   "metadata": {},
   "outputs": [],
   "source": [
    "records=[{\n",
    "    \"FirstName\":\"Vivek\",\"LastName\":\"Singh\",\"Age\":45\n",
    "    },\n",
    "    {\n",
    "    \"FirstName\":\"Shushil\",\"LastName\":\"Kumar\",\"Age\":36\n",
    "    },\n",
    "    {\n",
    "    \"FirstName\":\"Harsht\",\"LastName\":\"Varma\",\"Age\":42\n",
    "    },\n",
    "    {\n",
    "    \"FirstName\":\"Kamal\",\"LastName\":\"Das\",\"Age\":58\n",
    "    }]"
   ]
  },
  {
   "cell_type": "code",
   "execution_count": 9,
   "id": "d50594a2",
   "metadata": {},
   "outputs": [
    {
     "data": {
      "text/plain": [
       "<pymongo.results.InsertManyResult at 0x25c24650ac0>"
      ]
     },
     "execution_count": 9,
     "metadata": {},
     "output_type": "execute_result"
    }
   ],
   "source": [
    "info.insert_many(records)"
   ]
  },
  {
   "cell_type": "code",
   "execution_count": 10,
   "id": "73353fc5",
   "metadata": {},
   "outputs": [],
   "source": [
    "# Simple way of querying"
   ]
  },
  {
   "cell_type": "code",
   "execution_count": 11,
   "id": "806e4711",
   "metadata": {},
   "outputs": [
    {
     "data": {
      "text/plain": [
       "{'_id': ObjectId('64deeee52f8ce97462b007b9'),\n",
       " 'FirstName': 'Vivek',\n",
       " 'LastName': 'Singh',\n",
       " 'Age': 48}"
      ]
     },
     "execution_count": 11,
     "metadata": {},
     "output_type": "execute_result"
    }
   ],
   "source": [
    "info.find_one()"
   ]
  },
  {
   "cell_type": "code",
   "execution_count": 12,
   "id": "c6d748e1",
   "metadata": {},
   "outputs": [
    {
     "data": {
      "text/plain": [
       "<pymongo.cursor.Cursor at 0x25c2466ed00>"
      ]
     },
     "execution_count": 12,
     "metadata": {},
     "output_type": "execute_result"
    }
   ],
   "source": [
    "info.find()"
   ]
  },
  {
   "cell_type": "code",
   "execution_count": 13,
   "id": "6de50eb7",
   "metadata": {},
   "outputs": [
    {
     "data": {
      "text/plain": [
       "<pymongo.cursor.Cursor at 0x25c24696220>"
      ]
     },
     "execution_count": 13,
     "metadata": {},
     "output_type": "execute_result"
    }
   ],
   "source": [
    "info.find({})"
   ]
  },
  {
   "cell_type": "code",
   "execution_count": 14,
   "id": "0b6e5d99",
   "metadata": {},
   "outputs": [
    {
     "name": "stdout",
     "output_type": "stream",
     "text": [
      "{'_id': ObjectId('64deeee52f8ce97462b007b9'), 'FirstName': 'Vivek', 'LastName': 'Singh', 'Age': 48}\n",
      "/\n",
      "{'_id': ObjectId('64deeee72f8ce97462b007ba'), 'FirstName': 'Vivek', 'LastName': 'Singh', 'Age': 45}\n",
      "/\n",
      "{'_id': ObjectId('64deeee72f8ce97462b007bb'), 'FirstName': 'Shushil', 'LastName': 'Kumar', 'Age': 36}\n",
      "/\n",
      "{'_id': ObjectId('64deeee72f8ce97462b007bc'), 'FirstName': 'Harsht', 'LastName': 'Varma', 'Age': 42}\n",
      "/\n",
      "{'_id': ObjectId('64deeee72f8ce97462b007bd'), 'FirstName': 'Kamal', 'LastName': 'Das', 'Age': 58}\n",
      "/\n",
      "{'_id': ObjectId('64e0d20c0c8f5ded93428df1'), 'FirstName': 'Vivek', 'LastName': 'Singh', 'Age': 48}\n",
      "/\n",
      "{'_id': ObjectId('64e0d20d0c8f5ded93428df2'), 'FirstName': 'Vivek', 'LastName': 'Singh', 'Age': 45}\n",
      "/\n",
      "{'_id': ObjectId('64e0d20d0c8f5ded93428df3'), 'FirstName': 'Shushil', 'LastName': 'Kumar', 'Age': 36}\n",
      "/\n",
      "{'_id': ObjectId('64e0d20d0c8f5ded93428df4'), 'FirstName': 'Harsht', 'LastName': 'Varma', 'Age': 42}\n",
      "/\n",
      "{'_id': ObjectId('64e0d20d0c8f5ded93428df5'), 'FirstName': 'Kamal', 'LastName': 'Das', 'Age': 58}\n",
      "/\n"
     ]
    }
   ],
   "source": [
    "for rec in info.find():\n",
    "    print(rec)\n",
    "    print('/')"
   ]
  },
  {
   "cell_type": "code",
   "execution_count": 15,
   "id": "8e805dc4",
   "metadata": {},
   "outputs": [
    {
     "data": {
      "text/plain": [
       "<pymongo.cursor.Cursor at 0x25c24696670>"
      ]
     },
     "execution_count": 15,
     "metadata": {},
     "output_type": "execute_result"
    }
   ],
   "source": [
    "# Query the json documents based on equality conditions\n",
    "info.find({'FirstName': 'Vivek'})"
   ]
  },
  {
   "cell_type": "code",
   "execution_count": 16,
   "id": "4dc4f376",
   "metadata": {},
   "outputs": [
    {
     "name": "stdout",
     "output_type": "stream",
     "text": [
      "{'_id': ObjectId('64deeee52f8ce97462b007b9'), 'FirstName': 'Vivek', 'LastName': 'Singh', 'Age': 48}\n",
      "{'_id': ObjectId('64deeee72f8ce97462b007ba'), 'FirstName': 'Vivek', 'LastName': 'Singh', 'Age': 45}\n",
      "{'_id': ObjectId('64e0d20c0c8f5ded93428df1'), 'FirstName': 'Vivek', 'LastName': 'Singh', 'Age': 48}\n",
      "{'_id': ObjectId('64e0d20d0c8f5ded93428df2'), 'FirstName': 'Vivek', 'LastName': 'Singh', 'Age': 45}\n"
     ]
    }
   ],
   "source": [
    "for rec in info.find({'FirstName': 'Vivek'}):\n",
    "    print(rec)"
   ]
  },
  {
   "cell_type": "code",
   "execution_count": 17,
   "id": "432f5c7e",
   "metadata": {},
   "outputs": [],
   "source": [
    "# Query operator"
   ]
  },
  {
   "cell_type": "code",
   "execution_count": 18,
   "id": "3e8e7a16",
   "metadata": {},
   "outputs": [
    {
     "name": "stdout",
     "output_type": "stream",
     "text": [
      "{'_id': ObjectId('64deeee52f8ce97462b007b9'), 'FirstName': 'Vivek', 'LastName': 'Singh', 'Age': 48}\n",
      "{'_id': ObjectId('64deeee72f8ce97462b007ba'), 'FirstName': 'Vivek', 'LastName': 'Singh', 'Age': 45}\n",
      "{'_id': ObjectId('64deeee72f8ce97462b007bd'), 'FirstName': 'Kamal', 'LastName': 'Das', 'Age': 58}\n",
      "{'_id': ObjectId('64e0d20c0c8f5ded93428df1'), 'FirstName': 'Vivek', 'LastName': 'Singh', 'Age': 48}\n",
      "{'_id': ObjectId('64e0d20d0c8f5ded93428df2'), 'FirstName': 'Vivek', 'LastName': 'Singh', 'Age': 45}\n",
      "{'_id': ObjectId('64e0d20d0c8f5ded93428df5'), 'FirstName': 'Kamal', 'LastName': 'Das', 'Age': 58}\n"
     ]
    }
   ],
   "source": [
    "for rec in info.find({'FirstName': {'$in':['Vivek','Kamal']}}):\n",
    "    print(rec)"
   ]
  },
  {
   "cell_type": "code",
   "execution_count": 19,
   "id": "04eb8703",
   "metadata": {},
   "outputs": [
    {
     "name": "stdout",
     "output_type": "stream",
     "text": [
      "{'_id': ObjectId('64deeee72f8ce97462b007bd'), 'FirstName': 'Kamal', 'LastName': 'Das', 'Age': 58}\n",
      "{'_id': ObjectId('64e0d20d0c8f5ded93428df5'), 'FirstName': 'Kamal', 'LastName': 'Das', 'Age': 58}\n"
     ]
    }
   ],
   "source": [
    "# And and query operator\n",
    "for rec in info.find({'FirstName':'Kamal','Age':{'$lt':85}}):\n",
    "    print(rec)"
   ]
  },
  {
   "cell_type": "code",
   "execution_count": 20,
   "id": "cd1a3547",
   "metadata": {},
   "outputs": [
    {
     "name": "stdout",
     "output_type": "stream",
     "text": [
      "{'_id': ObjectId('64deeee72f8ce97462b007bb'), 'FirstName': 'Shushil', 'LastName': 'Kumar', 'Age': 36}\n",
      "{'_id': ObjectId('64deeee72f8ce97462b007bc'), 'FirstName': 'Harsht', 'LastName': 'Varma', 'Age': 42}\n",
      "{'_id': ObjectId('64e0d20d0c8f5ded93428df3'), 'FirstName': 'Shushil', 'LastName': 'Kumar', 'Age': 36}\n",
      "{'_id': ObjectId('64e0d20d0c8f5ded93428df4'), 'FirstName': 'Harsht', 'LastName': 'Varma', 'Age': 42}\n"
     ]
    }
   ],
   "source": [
    "# query operator\n",
    "for rec in info.find({'Age':{'$lt':45}}):\n",
    "    print(rec)"
   ]
  },
  {
   "cell_type": "code",
   "execution_count": 21,
   "id": "c896e16c",
   "metadata": {},
   "outputs": [
    {
     "name": "stdout",
     "output_type": "stream",
     "text": [
      "{'_id': ObjectId('64deeee72f8ce97462b007bb'), 'FirstName': 'Shushil', 'LastName': 'Kumar', 'Age': 36}\n",
      "{'_id': ObjectId('64deeee72f8ce97462b007bc'), 'FirstName': 'Harsht', 'LastName': 'Varma', 'Age': 42}\n",
      "{'_id': ObjectId('64e0d20d0c8f5ded93428df3'), 'FirstName': 'Shushil', 'LastName': 'Kumar', 'Age': 36}\n",
      "{'_id': ObjectId('64e0d20d0c8f5ded93428df4'), 'FirstName': 'Harsht', 'LastName': 'Varma', 'Age': 42}\n"
     ]
    }
   ],
   "source": [
    "# Or operator\n",
    "for rec in info.find({'$or':[{'FirstName': 'Shushil'},{'LastName': 'Varma'}]}):\n",
    "    print(rec)"
   ]
  },
  {
   "cell_type": "code",
   "execution_count": 22,
   "id": "25b24ede",
   "metadata": {},
   "outputs": [],
   "source": [
    "# And operators\n",
    "for rec in info.find({'$and':[{'FirstName': 'Shushil'},{'LastName': 'Varma'}]}):\n",
    "    print(rec)"
   ]
  },
  {
   "cell_type": "code",
   "execution_count": 23,
   "id": "3642e2c1",
   "metadata": {},
   "outputs": [],
   "source": [
    "inventory=db.inventory"
   ]
  },
  {
   "cell_type": "code",
   "execution_count": 24,
   "id": "ccc9ba51",
   "metadata": {},
   "outputs": [
    {
     "data": {
      "text/plain": [
       "<pymongo.results.InsertManyResult at 0x25c2466eb50>"
      ]
     },
     "execution_count": 24,
     "metadata": {},
     "output_type": "execute_result"
    }
   ],
   "source": [
    "inventory.insert_many(\n",
    "    [\n",
    "        {\n",
    "            \"item\": \"journal\",\n",
    "            \"qty\": 25,\n",
    "            \"tags\": [\"blank\", \"red\"],\n",
    "            \"size\": {\"h\": 14, \"w\": 21, \"uom\": \"cm\"},\n",
    "        },\n",
    "        {\n",
    "            \"item\": \"mat\",\n",
    "            \"qty\": 85,\n",
    "            \"tags\": [\"gray\"],\n",
    "            \"size\": {\"h\": 27.9, \"w\": 35.5, \"uom\": \"cm\"},\n",
    "        },\n",
    "        {\n",
    "            \"item\": \"mousepad\",\n",
    "            \"qty\": 25,\n",
    "            \"tags\": [\"gel\", \"blue\"],\n",
    "            \"size\": {\"h\": 19, \"w\": 22.85, \"uom\": \"cm\"},\n",
    "        },\n",
    "    ]\n",
    ")"
   ]
  },
  {
   "cell_type": "code",
   "execution_count": 25,
   "id": "ec89d6ab",
   "metadata": {},
   "outputs": [
    {
     "data": {
      "text/plain": [
       "<pymongo.results.UpdateResult at 0x25c24696d00>"
      ]
     },
     "execution_count": 25,
     "metadata": {},
     "output_type": "execute_result"
    }
   ],
   "source": [
    "# Update\n",
    "inventory.update_one(\n",
    "    {\"item\": \"mat\"},\n",
    "    {\"$set\": {\"size.uom\": \"om\", \"qty\": 90}, \"$currentDate\": {\"lastModified\": True}},\n",
    ")"
   ]
  },
  {
   "cell_type": "code",
   "execution_count": 26,
   "id": "0c9c5f55",
   "metadata": {},
   "outputs": [
    {
     "data": {
      "text/plain": [
       "<pymongo.results.UpdateResult at 0x25c24696430>"
      ]
     },
     "execution_count": 26,
     "metadata": {},
     "output_type": "execute_result"
    }
   ],
   "source": [
    "inventory.update_many(\n",
    "    {\"qty\": {\"$lt\": 50}},\n",
    "    {\"$set\": {\"size.uom\": \"in\", \"size.h\": 22}, \"$currentDate\": {\"lastModified\": True}},\n",
    ")"
   ]
  },
  {
   "cell_type": "markdown",
   "id": "54b18346",
   "metadata": {},
   "source": [
    "https://www.mongodb.com/docs/manual/tutorial/update-documents/"
   ]
  },
  {
   "cell_type": "code",
   "execution_count": null,
   "id": "d1e8f6b0",
   "metadata": {},
   "outputs": [],
   "source": []
  }
 ],
 "metadata": {
  "kernelspec": {
   "display_name": "Python 3 (ipykernel)",
   "language": "python",
   "name": "python3"
  },
  "language_info": {
   "codemirror_mode": {
    "name": "ipython",
    "version": 3
   },
   "file_extension": ".py",
   "mimetype": "text/x-python",
   "name": "python",
   "nbconvert_exporter": "python",
   "pygments_lexer": "ipython3",
   "version": "3.9.12"
  }
 },
 "nbformat": 4,
 "nbformat_minor": 5
}
